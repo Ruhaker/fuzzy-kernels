{
 "cells": [
  {
   "cell_type": "markdown",
   "metadata": {},
   "source": [
    "# Examples of the Cross-Product kernel on Fuzzy Sets"
   ]
  },
  {
   "cell_type": "markdown",
   "metadata": {},
   "source": [
    "# Pre-configuration"
   ]
  },
  {
   "cell_type": "code",
   "execution_count": 1,
   "metadata": {},
   "outputs": [],
   "source": [
    "# Path\n",
    "import sys\n",
    "import os\n",
    "qprc_path = os.path.abspath(os.path.join('..'))\n",
    "if qprc_path not in sys.path:\n",
    "    sys.path.append(qprc_path)"
   ]
  },
  {
   "cell_type": "markdown",
   "metadata": {},
   "source": [
    "# Global imports"
   ]
  },
  {
   "cell_type": "code",
   "execution_count": 2,
   "metadata": {},
   "outputs": [],
   "source": [
    "import numpy as np"
   ]
  },
  {
   "cell_type": "markdown",
   "metadata": {},
   "source": [
    "# Use case: Cross-Product kernel on Fuzzy Sets\n",
    "\n",
    "The function `cross_product_kernel` from the `kernels` module implements a new kernel method. The correspondent formula is written as\n",
    "\n",
    "\\begin{align*}\n",
    "    k_\\times(X,Y)=\\sum_{x\\ \\in\\ supp(X) \\\\ y\\ \\in\\ supp(Y)}k_1\\otimes k_2 ((x,X(x)),(y,Y(y)))\n",
    "\\end{align*}\n",
    "\n",
    "where:\n",
    "\n",
    "* $k_\\times$ is the cross-product kernel\n",
    "* $k_1,k_2$ are two common kernels\n",
    "* $X,Y$ fuzzy sets\n",
    "* $x,y$ elements of their corresponding sets\n",
    "* $X(x),Y(y)$ their membership degrees\n",
    "\n",
    "It takes two other kernels, applies them over two fuzzy sets and the result is the cross-product of these kernels.\n",
    "\n",
    "First, let us create two fuzzy sets"
   ]
  },
  {
   "cell_type": "code",
   "execution_count": 3,
   "metadata": {},
   "outputs": [
    {
     "name": "stdout",
     "output_type": "stream",
     "text": [
      "Fuzzy set:  [(3.5582410565239586, 0.36787944117144233), (42.5806658890677, 0.36787944117144245)]\n",
      "Fuzzy set:  [(70.57530755417343, 0.3678794411714424), (20.89244684919256, 0.36787944117144217)]\n"
     ]
    }
   ],
   "source": [
    "from kernelfuzzy.fuzzyset import FuzzySet\n",
    "from kernelfuzzy.memberships import gaussmf\n",
    "\n",
    "elements = np.random.uniform(0, 100, 2)\n",
    "X = FuzzySet(elements=elements, mf=gaussmf, params=[np.mean(elements), np.std(elements)])\n",
    "\n",
    "elements = np.random.uniform(0, 100, 2)\n",
    "Y = FuzzySet(elements= elements, mf=gaussmf, params=[np.mean(elements), np.std(elements)])\n",
    "\n",
    "print(\"Fuzzy set: \", X.get_pair())\n",
    "print(\"Fuzzy set: \", Y.get_pair())"
   ]
  },
  {
   "cell_type": "markdown",
   "metadata": {},
   "source": [
    "## Cross-Product kernels, using only a linear kernel: comparison with Scikit-Learn\n",
    "\n",
    "The function uses 6 parameters: two fuzzy sets, from the class `FuzzySet`, 2 kernel functions and 2 lists of parameters, for each of these kernel functions. The following example compares the application of the `cross_product_kernel` on the `linear_kernel` of the `kernels` module and the `linear_kernel` from Scikit-Learn"
   ]
  },
  {
   "cell_type": "code",
   "execution_count": 4,
   "metadata": {},
   "outputs": [
    {
     "name": "stdout",
     "output_type": "stream",
     "text": [
      "sklearn linear_kernel:  571.1449679682214\n",
      "fuzzy-kernels linear_kernel:  571.1449679682214\n"
     ]
    }
   ],
   "source": [
    "from kernelfuzzy import kernels\n",
    "from sklearn.metrics import pairwise\n",
    "\n",
    "#cross product kernel with linear kernels\n",
    "print('sklearn linear_kernel: ', kernels.cross_product_kernel(X, Y, pairwise.linear_kernel, '', pairwise.linear_kernel, ''))\n",
    "print('fuzzy-kernels linear_kernel: ', kernels.cross_product_kernel(X, Y, kernels.linear_kernel, '', kernels.linear_kernel, ''))"
   ]
  },
  {
   "cell_type": "markdown",
   "metadata": {},
   "source": [
    "## Cross-Product kernels: linear kernel with RBF kernel\n",
    "\n",
    "This example calculates the Cross-Product of different kernels: the RBF with a linear kernel"
   ]
  },
  {
   "cell_type": "code",
   "execution_count": 5,
   "metadata": {},
   "outputs": [
    {
     "name": "stdout",
     "output_type": "stream",
     "text": [
      "4.043661711650557e-08\n",
      "7.658805252340087e-67\n",
      "0.0\n"
     ]
    }
   ],
   "source": [
    "#cross product kernel with RBF kernel and linear kernels\n",
    "from sklearn.metrics.pairwise import rbf_kernel\n",
    "\n",
    "print(kernels.cross_product_kernel(X, Y, rbf_kernel, 0.05, kernels.linear_kernel, ''))\n",
    "print(kernels.cross_product_kernel(X, Y, rbf_kernel, 0.5, kernels.linear_kernel, ''))\n",
    "print(kernels.cross_product_kernel(X, Y, rbf_kernel, 5.0, kernels.linear_kernel, ''))"
   ]
  }
 ],
 "metadata": {
  "kernelspec": {
   "display_name": "Python 3",
   "language": "python",
   "name": "python3"
  },
  "language_info": {
   "codemirror_mode": {
    "name": "ipython",
    "version": 3
   },
   "file_extension": ".py",
   "mimetype": "text/x-python",
   "name": "python",
   "nbconvert_exporter": "python",
   "pygments_lexer": "ipython3",
   "version": "3.6.7"
  }
 },
 "nbformat": 4,
 "nbformat_minor": 2
}
