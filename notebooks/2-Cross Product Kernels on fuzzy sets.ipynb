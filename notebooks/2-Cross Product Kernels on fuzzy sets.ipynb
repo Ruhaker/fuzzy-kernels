{
 "cells": [
  {
   "cell_type": "code",
   "execution_count": 1,
   "metadata": {
    "collapsed": true
   },
   "outputs": [],
   "source": [
    "import sys\n",
    "import os\n",
    "qprc_path = os.path.abspath(os.path.join('..'))\n",
    "if qprc_path not in sys.path:\n",
    "    sys.path.append(qprc_path)\n",
    "sys.path\n",
    "import numpy as np\n",
    "#library\n",
    "from  kernelfuzzy.fuzzysets import FuzzySet\n",
    "from  kernelfuzzy.memberships import gaussmf\n",
    "#from plots import plot1D"
   ]
  },
  {
   "cell_type": "markdown",
   "metadata": {},
   "source": [
    "Two fuzzy sets"
   ]
  },
  {
   "cell_type": "code",
   "execution_count": 2,
   "metadata": {},
   "outputs": [
    {
     "name": "stdout",
     "output_type": "stream",
     "text": [
      "Fuzzy set [(16.312278461684805, 3.2115048566708457e-10), (60.030501061586783, 3.2115048566708457e-10)]\n",
      "Fuzzy set [(63.006410775658495, 0.0068477339494507836), (72.974085759132436, 0.0068477339494505884)]\n"
     ]
    }
   ],
   "source": [
    "elements=np.random.uniform(0, 100, 2)\n",
    "X = FuzzySet(elements=elements  , mf=gaussmf, params=[np.mean(elements), np.std(elements)])\n",
    "\n",
    "elements=np.random.uniform(0, 100, 2)\n",
    "Y = FuzzySet(elements= elements , mf=gaussmf, params=[np.mean(elements), np.std(elements)])\n",
    "\n",
    "#plot1D(X)\n",
    "#plot1D(Y)\n",
    "#X.show_class()\n",
    "#print('\\n')\n",
    "print(\"Fuzzy set\", X.get_pair())\n",
    "#Y.show_class()\n",
    "print(\"Fuzzy set\", Y.get_pair())"
   ]
  },
  {
   "cell_type": "code",
   "execution_count": 3,
   "metadata": {},
   "outputs": [
    {
     "name": "stdout",
     "output_type": "stream",
     "text": [
      "sklearn 2.28296919975e-08\n",
      "mykernel 2.28296919975e-08\n"
     ]
    }
   ],
   "source": [
    "from  kernelfuzzy.kernels import crossProductFuzzySets,cross_product_kernel, my_kernel\n",
    "from sklearn.metrics.pairwise import linear_kernel\n",
    "\n",
    "#cross product kernel with linear kernels\n",
    "print('sklearn',cross_product_kernel(X,Y,linear_kernel,'',linear_kernel,''))\n",
    "print('mykernel',cross_product_kernel(X,Y,my_kernel,'',my_kernel,''))"
   ]
  },
  {
   "cell_type": "code",
   "execution_count": 4,
   "metadata": {},
   "outputs": [
    {
     "name": "stdout",
     "output_type": "stream",
     "text": [
      "sklearn 1.41287787823e-12\n",
      "sklearn 2.62537356679e-14\n",
      "sklearn 1.29303990235e-31\n"
     ]
    }
   ],
   "source": [
    "#cross product kernel with RBF kernel and linear kernels\n",
    "from sklearn.metrics.pairwise import rbf_kernel\n",
    "\n",
    "print('sklearn',cross_product_kernel(X,Y,rbf_kernel,0.05,linear_kernel,''))\n",
    "print('sklearn',cross_product_kernel(X,Y,rbf_kernel,0.5,linear_kernel,''))\n",
    "print('sklearn',cross_product_kernel(X,Y,rbf_kernel,5.0,linear_kernel,''))"
   ]
  },
  {
   "cell_type": "code",
   "execution_count": null,
   "metadata": {
    "collapsed": true
   },
   "outputs": [],
   "source": []
  },
  {
   "cell_type": "code",
   "execution_count": null,
   "metadata": {
    "collapsed": true
   },
   "outputs": [],
   "source": []
  },
  {
   "cell_type": "code",
   "execution_count": null,
   "metadata": {
    "collapsed": true
   },
   "outputs": [],
   "source": []
  },
  {
   "cell_type": "code",
   "execution_count": null,
   "metadata": {
    "collapsed": true
   },
   "outputs": [],
   "source": []
  },
  {
   "cell_type": "code",
   "execution_count": null,
   "metadata": {
    "collapsed": true
   },
   "outputs": [],
   "source": []
  }
 ],
 "metadata": {
  "kernelspec": {
   "display_name": "Python 3",
   "language": "python",
   "name": "python3"
  },
  "language_info": {
   "codemirror_mode": {
    "name": "ipython",
    "version": 3
   },
   "file_extension": ".py",
   "mimetype": "text/x-python",
   "name": "python",
   "nbconvert_exporter": "python",
   "pygments_lexer": "ipython3",
   "version": "3.7.3"
  }
 },
 "nbformat": 4,
 "nbformat_minor": 2
}
