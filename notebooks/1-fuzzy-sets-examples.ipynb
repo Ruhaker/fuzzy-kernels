{
 "cells": [
  {
   "cell_type": "code",
   "execution_count": 1,
   "metadata": {},
   "outputs": [],
   "source": [
    "import sys\n",
    "import os\n",
    "qprc_path = os.path.abspath(os.path.join('..'))\n",
    "if qprc_path not in sys.path:\n",
    "    sys.path.append(qprc_path)\n",
    "sys.path\n",
    "import numpy as np\n",
    "#library\n",
    "from  kernelfuzzy.fuzzysets import FuzzySet\n",
    "from  kernelfuzzy.memberships import gaussmf\n",
    "from plots import plot1D"
   ]
  },
  {
   "cell_type": "markdown",
   "metadata": {},
   "source": [
    "A fuzzy set without explicit membership function"
   ]
  },
  {
   "cell_type": "code",
   "execution_count": 2,
   "metadata": {},
   "outputs": [
    {
     "name": "stdout",
     "output_type": "stream",
     "text": [
      "elements      =  ['apple', 'banana', 'cherry']\n",
      "type of elements =  <class 'str'>\n",
      "membership degrees            =  [0.1, 0.5, 0.1]\n"
     ]
    }
   ],
   "source": [
    "elements=[\"apple\", \"banana\", \"cherry\"]\n",
    "membership_degrees = [.1, .5, .1]\n",
    "X=FuzzySet(elements,md=membership_degrees)\n",
    "X.show_class()"
   ]
  },
  {
   "cell_type": "markdown",
   "metadata": {},
   "source": [
    "A fuzzy set with explicit membership function"
   ]
  },
  {
   "cell_type": "code",
   "execution_count": 3,
   "metadata": {},
   "outputs": [
    {
     "name": "stdout",
     "output_type": "stream",
     "text": [
      "elements      =  [40.58380682 29.45811525 90.34958177 89.29582135  4.59300032 90.3494132\n",
      " 85.72449626 98.05807998 15.98462497 16.26841481 71.87789964 17.66998554\n",
      " 63.45288112 50.93899964 95.85863134 30.14119128 50.6895871  85.23431404\n",
      " 85.47457077 25.27360903 63.58715769 76.40910431 36.32222555 11.98391471\n",
      " 97.69390221 47.08884275 14.04763156 59.25045739 66.42445732 30.51408493\n",
      " 48.37805971 37.2526609  78.66221757 40.73783578  8.40396381 21.01008889\n",
      " 13.9644408  38.8056136  11.50096857 99.6518215  91.42252673 40.39380267\n",
      " 20.78378391 19.53435197 13.4083441  27.10907854 67.22496759 33.47667613\n",
      "  8.10053361 22.80995557  1.06182532 12.95644019 79.53702668  1.6595502\n",
      " 85.72419488  9.4809408  44.51235618 69.12933133 95.97902791 73.06030872\n",
      " 77.929692   32.79082612 92.16544124 66.93621785 17.35931146  6.34434141\n",
      " 49.07346667 25.78663871 59.30351789 34.44154001 36.33079649 99.97336305\n",
      " 48.71649147 21.73263342 87.0826604  56.15992111 53.91542114 10.63212605\n",
      " 77.78320755 48.57878467 76.26877052 48.42525418 83.60578411 52.30559412\n",
      " 48.08257371  2.85673441 71.74849127 82.55812823 43.33786075  7.60779227\n",
      "  1.05318102 61.58103302 58.04201593 99.58287057 28.28311717 66.7165333\n",
      " 85.16785538 46.91867083 32.89151643  8.05644029]\n",
      "type of elements =  <class 'numpy.float64'>\n",
      "membership degrees            =  [1.12536350e-01 4.21814716e-06 4.02353416e-26 7.44261731e-25\n",
      " 4.63880997e-29 4.02543661e-26 8.41344024e-21 2.23434996e-36\n",
      " 2.66472647e-16 4.95604091e-16 1.31413566e-08 9.80740889e-15\n",
      " 6.28402385e-04 8.37791270e-01 2.83292198e-33 1.00235510e-05\n",
      " 8.68837286e-01 2.83291536e-20 1.56559849e-20 1.05918547e-08\n",
      " 5.49426516e-04 5.55453243e-12 6.06733173e-03 2.37885973e-20\n",
      " 7.45948202e-36 9.21851996e-01 3.33816152e-18 2.27838488e-02\n",
      " 2.42278782e-05 1.58663631e-05 9.97614716e-01 1.27397250e-02\n",
      " 6.97853422e-14 1.22237112e-01 2.27357258e-24 7.07662396e-12\n",
      " 2.75016928e-18 3.85974752e-02 7.17699980e-21 1.02886810e-38\n",
      " 1.91031065e-27 1.01400688e-01 4.63933633e-12 4.23784796e-13\n",
      " 7.44172816e-19 1.69215724e-07 9.10607829e-06 4.37367400e-04\n",
      " 9.97252079e-25 1.79876299e-10 8.74789250e-34 2.53338581e-19\n",
      " 1.16348674e-14 5.85093189e-33 8.41976469e-21 4.03018301e-23\n",
      " 5.63230356e-01 7.46639705e-07 1.93209436e-33 1.97704984e-09\n",
      " 3.00633428e-13 2.13892395e-04 2.21311463e-28 1.30251792e-05\n",
      " 5.11842828e-15 7.49061653e-27 9.93834973e-01 2.35102879e-08\n",
      " 2.19357564e-02 1.13401783e-03 6.11055681e-03 3.40340797e-39\n",
      " 9.99826164e-01 2.66243425e-11 2.67561421e-22 1.49740097e-01\n",
      " 3.92972611e-01 7.98958074e-22 4.00861147e-13 9.99854465e-01\n",
      " 7.21337825e-12 9.98384053e-01 1.42419077e-18 6.37241918e-01\n",
      " 9.89437308e-01 2.44843331e-31 1.60765631e-08 1.61110375e-17\n",
      " 3.87990295e-01 2.58152077e-25 8.50924642e-34 3.60179270e-03\n",
      " 5.13536578e-02 1.30314484e-38 8.84377699e-07 1.70381725e-05\n",
      " 3.33563953e-20 9.04705908e-01 2.38046946e-04 8.84243739e-25]\n",
      "membership function           =  <function gaussmf at 0x10e51d488>\n",
      "with parameters       =  [48.644581130188584, 29.744429909484033]\n"
     ]
    }
   ],
   "source": [
    "elements = np.random.uniform(0, 100, 100)\n",
    "mf = gaussmf\n",
    "params_mf = [np.mean(elements), np.std(elements)]\n",
    "X = FuzzySet(elements, mf=mf, params=params_mf)\n",
    "X.show_class()\n",
    "plot1D(X)"
   ]
  },
  {
   "cell_type": "code",
   "execution_count": 4,
   "metadata": {},
   "outputs": [],
   "source": []
  },
  {
   "cell_type": "code",
   "execution_count": null,
   "metadata": {},
   "outputs": [],
   "source": []
  },
  {
   "cell_type": "code",
   "execution_count": null,
   "metadata": {},
   "outputs": [],
   "source": []
  },
  {
   "cell_type": "code",
   "execution_count": null,
   "metadata": {},
   "outputs": [],
   "source": []
  },
  {
   "cell_type": "code",
   "execution_count": null,
   "metadata": {},
   "outputs": [],
   "source": []
  }
 ],
 "metadata": {
  "kernelspec": {
   "display_name": "Python 3",
   "language": "python",
   "name": "python3"
  },
  "language_info": {
   "codemirror_mode": {
    "name": "ipython",
    "version": 3
   },
   "file_extension": ".py",
   "mimetype": "text/x-python",
   "name": "python",
   "nbconvert_exporter": "python",
   "pygments_lexer": "ipython3",
   "version": "3.7.3"
  }
 },
 "nbformat": 4,
 "nbformat_minor": 2
}
