{
 "cells": [
  {
   "cell_type": "markdown",
   "metadata": {},
   "source": [
    "# Examples using the FuzzySet class"
   ]
  },
  {
   "cell_type": "markdown",
   "metadata": {},
   "source": [
    "# Pre-configuration"
   ]
  },
  {
   "cell_type": "code",
   "execution_count": 1,
   "metadata": {},
   "outputs": [],
   "source": [
    "# Path\n",
    "import sys\n",
    "import os\n",
    "qprc_path = os.path.abspath(os.path.join('..'))\n",
    "if qprc_path not in sys.path:\n",
    "    sys.path.append(qprc_path)"
   ]
  },
  {
   "cell_type": "markdown",
   "metadata": {},
   "source": [
    "# Global imports"
   ]
  },
  {
   "cell_type": "code",
   "execution_count": 2,
   "metadata": {},
   "outputs": [],
   "source": [
    "import numpy as np\n",
    "from kernelfuzzy.fuzzyset import FuzzySet\n",
    "from kernelfuzzy.memberships import gaussmf"
   ]
  },
  {
   "cell_type": "markdown",
   "metadata": {},
   "source": [
    "# Use case: without explicit membership function\n",
    "\n",
    "In this block we have 3 examples of use of the FuzzySet class using pre-defined membership degrees, instead of using a membership function."
   ]
  },
  {
   "cell_type": "code",
   "execution_count": 3,
   "metadata": {},
   "outputs": [
    {
     "name": "stdout",
     "output_type": "stream",
     "text": [
      "(_elements)      \n",
      " ['apple', 'banana', 'cherry'] \n",
      "\n",
      "(_elements_type) \n",
      " <class 'str'> \n",
      "\n",
      "(_mf)            \n",
      " None \n",
      "\n",
      "(_md)            \n",
      " [0.1, 0.5, 0.1] \n",
      "\n",
      "(_params)        \n",
      " None \n",
      "\n",
      "\n",
      "\n",
      "Fuzzy set:  [('apple', 0.1), ('banana', 0.5), ('cherry', 0.1)]\n"
     ]
    }
   ],
   "source": [
    "elements = [\"apple\", \"banana\", \"cherry\"]\n",
    "membership_degrees = [.1, .5, .1]\n",
    "\n",
    "X = FuzzySet(elements, md=membership_degrees)\n",
    "X.show_class()\n",
    "\n",
    "print('\\n')\n",
    "print(\"Fuzzy set: \", X.get_pair())"
   ]
  },
  {
   "cell_type": "code",
   "execution_count": 4,
   "metadata": {},
   "outputs": [
    {
     "name": "stdout",
     "output_type": "stream",
     "text": [
      "(_elements)      \n",
      " [array([2, 3]), array([4, 5]), array([3, 7])] \n",
      "\n",
      "(_elements_type) \n",
      " <class 'numpy.ndarray'> \n",
      "\n",
      "(_mf)            \n",
      " None \n",
      "\n",
      "(_md)            \n",
      " [0.1, 0.5, 0.1] \n",
      "\n",
      "(_params)        \n",
      " None \n",
      "\n",
      "\n",
      "\n",
      "Fuzzy set:  [(array([2, 3]), 0.1), (array([4, 5]), 0.5), (array([3, 7]), 0.1)]\n"
     ]
    }
   ],
   "source": [
    "elements = [np.array([2,3]), np.array([4,5]), np.array([3,7])]\n",
    "membership_degrees = [.1, .5, .1]\n",
    "\n",
    "X = FuzzySet(elements, md=membership_degrees)\n",
    "X.show_class()\n",
    "\n",
    "print('\\n')\n",
    "print(\"Fuzzy set: \", X.get_pair())"
   ]
  },
  {
   "cell_type": "code",
   "execution_count": 5,
   "metadata": {},
   "outputs": [
    {
     "name": "stdout",
     "output_type": "stream",
     "text": [
      "(_elements)      \n",
      " [[2, 3], [4, 5], [3, 7]] \n",
      "\n",
      "(_elements_type) \n",
      " <class 'list'> \n",
      "\n",
      "(_mf)            \n",
      " None \n",
      "\n",
      "(_md)            \n",
      " [0.1, 0.5, 0.1] \n",
      "\n",
      "(_params)        \n",
      " None \n",
      "\n",
      "\n",
      "\n",
      "Fuzzy set [([2, 3], 0.1), ([4, 5], 0.5), ([3, 7], 0.1)]\n"
     ]
    }
   ],
   "source": [
    "elements = [[2,3], [4,5], [3,7]]\n",
    "membership_degrees = [.1, .5, .1]\n",
    "\n",
    "X = FuzzySet(elements, md=membership_degrees)\n",
    "X.show_class()\n",
    "\n",
    "print('\\n')\n",
    "print(\"Fuzzy set\", X.get_pair())"
   ]
  },
  {
   "cell_type": "markdown",
   "metadata": {},
   "source": [
    "# Use case: explicit membership function\n",
    "\n",
    "In this block we have a example of use of the FuzzySet class, using a membership function."
   ]
  },
  {
   "cell_type": "code",
   "execution_count": 6,
   "metadata": {},
   "outputs": [
    {
     "name": "stdout",
     "output_type": "stream",
     "text": [
      "(_elements)      \n",
      " [78.12341389 57.3660294  47.0315784 ] \n",
      "\n",
      "(_elements_type) \n",
      " <class 'numpy.float64'> \n",
      "\n",
      "(_mf)            \n",
      " <function gaussmf at 0x7faf2c066158> \n",
      "\n",
      "(_md)            \n",
      " [0.16745862 0.93033128 0.319574  ] \n",
      "\n",
      "(_params)        \n",
      " [60.840340565790605, 12.928745417165153] \n",
      "\n",
      "\n",
      "\n",
      "Fuzzy set [(78.12341389378197, 0.16745861528767214), (57.3660293998024, 0.9303312799613191), (47.03157840378746, 0.319573997601598)]\n"
     ]
    }
   ],
   "source": [
    "elements = np.random.uniform(0, 100, 3)\n",
    "mf = gaussmf\n",
    "params_mf = [np.mean(elements), np.std(elements)]\n",
    "\n",
    "X = FuzzySet(elements, mf=mf, params=params_mf)\n",
    "X.show_class()\n",
    "\n",
    "print('\\n')\n",
    "print(\"Fuzzy set\", X.get_pair())"
   ]
  },
  {
   "cell_type": "markdown",
   "metadata": {},
   "source": [
    "# Use case: explicit membership function, with elements in $\\mathbb{R}^2$"
   ]
  },
  {
   "cell_type": "code",
   "execution_count": 7,
   "metadata": {},
   "outputs": [
    {
     "name": "stdout",
     "output_type": "stream",
     "text": [
      "(_elements)      \n",
      " [[56.83957818 53.65880728]\n",
      " [55.52585483 52.91772526]\n",
      " [55.39087803 52.37236829]\n",
      " [56.14117182 53.11222581]\n",
      " [55.18414538 53.43017777]\n",
      " [54.3317501  52.71268461]\n",
      " [56.14912484 54.21089931]\n",
      " [54.79413517 54.61365357]\n",
      " [56.878515   52.54680145]\n",
      " [55.83611427 53.52920781]] \n",
      "\n",
      "(_elements_type) \n",
      " <class 'numpy.ndarray'> \n",
      "\n",
      "(_mf)            \n",
      " <function gaussmf at 0x7faf2c066158> \n",
      "\n",
      "(_md)            \n",
      " [0.24045758 0.74148556 0.29253202 0.7125924  0.79353762 0.09870101\n",
      " 0.44103608 0.12005959 0.10197481 0.96447243] \n",
      "\n",
      "(_params)        \n",
      " [array([55.66475079, 53.4466936 ]), array([[1, 0],\n",
      "       [0, 1]])] \n",
      "\n",
      "\n",
      "\n",
      "Fuzzy set [(array([56.83957818, 53.65880728]), 0.24045757775306212), (array([55.52585483, 52.91772526]), 0.7414855552742433), (array([55.39087803, 52.37236829]), 0.29253201572182397), (array([56.14117182, 53.11222581]), 0.7125923955443285), (array([55.18414538, 53.43017777]), 0.7935376174047657), (array([54.3317501 , 52.71268461]), 0.09870101455965256), (array([56.14912484, 54.21089931]), 0.4410360802353732), (array([54.79413517, 54.61365357]), 0.12005958528158023), (array([56.878515  , 52.54680145]), 0.10197481136543422), (array([55.83611427, 53.52920781]), 0.9644724257183609)]\n"
     ]
    }
   ],
   "source": [
    "covar = np.array([[1, 0], [0, 1]])\n",
    "mean = np.random.uniform(0, 100, 2)\n",
    "elements = np.random.multivariate_normal(mean, covar, 10)\n",
    "\n",
    "X = FuzzySet(elements, mf=gaussmf, params=[mean, covar])\n",
    "X.show_class()\n",
    "\n",
    "print('\\n')\n",
    "print(\"Fuzzy set\", X.get_pair())"
   ]
  }
 ],
 "metadata": {
  "kernelspec": {
   "display_name": "Python 3",
   "language": "python",
   "name": "python3"
  },
  "language_info": {
   "codemirror_mode": {
    "name": "ipython",
    "version": 3
   },
   "file_extension": ".py",
   "mimetype": "text/x-python",
   "name": "python",
   "nbconvert_exporter": "python",
   "pygments_lexer": "ipython3",
   "version": "3.6.7"
  }
 },
 "nbformat": 4,
 "nbformat_minor": 2
}
