{
 "cells": [
  {
   "cell_type": "code",
   "execution_count": 1,
   "metadata": {},
   "outputs": [],
   "source": [
    "import sys\n",
    "import os\n",
    "qprc_path = os.path.abspath(os.path.join('..'))\n",
    "if qprc_path not in sys.path:\n",
    "    sys.path.append(qprc_path)\n",
    "sys.path\n",
    "import numpy as np\n",
    "#library\n",
    "from kernelfuzzy.fuzzysets import FuzzySet\n",
    "from kernelfuzzy.memberships import gaussmf\n",
    "from utils.plots import plot1D"
   ]
  },
  {
   "cell_type": "markdown",
   "metadata": {},
   "source": [
    "A fuzzy set without explicit membership function"
   ]
  },
  {
   "cell_type": "code",
   "execution_count": 2,
   "metadata": {},
   "outputs": [
    {
     "name": "stdout",
     "output_type": "stream",
     "text": [
      "elements      =  ['apple', 'banana', 'cherry']\n",
      "type of elements =  <class 'str'>\n",
      "membership degrees            =  [0.1, 0.5, 0.1]\n",
      "\n",
      "\n",
      "Fuzzy set [('apple', 0.1), ('banana', 0.5), ('cherry', 0.1)]\n"
     ]
    }
   ],
   "source": [
    "elements=[\"apple\", \"banana\", \"cherry\"]\n",
    "membership_degrees = [.1, .5, .1]\n",
    "X=FuzzySet(elements,md=membership_degrees)\n",
    "X.show_class()\n",
    "print('\\n')\n",
    "print(\"Fuzzy set\", X.get_pair())"
   ]
  },
  {
   "cell_type": "code",
   "execution_count": 3,
   "metadata": {},
   "outputs": [
    {
     "name": "stdout",
     "output_type": "stream",
     "text": [
      "elements      =  [array([2, 3]), array([4, 5]), array([3, 7])]\n",
      "type of elements =  <class 'numpy.ndarray'>\n",
      "membership degrees            =  [0.1, 0.5, 0.1]\n",
      "\n",
      "\n",
      "Fuzzy set [(array([2, 3]), 0.1), (array([4, 5]), 0.5), (array([3, 7]), 0.1)]\n"
     ]
    }
   ],
   "source": [
    "elements=[np.array([2,3]), np.array([4,5]), np.array([3,7])]\n",
    "membership_degrees = [.1, .5, .1]\n",
    "X=FuzzySet(elements,md=membership_degrees)\n",
    "X.show_class()\n",
    "print('\\n')\n",
    "print(\"Fuzzy set\", X.get_pair())"
   ]
  },
  {
   "cell_type": "code",
   "execution_count": 4,
   "metadata": {},
   "outputs": [
    {
     "name": "stdout",
     "output_type": "stream",
     "text": [
      "elements      =  [[2, 3], [4, 5], [3, 7]]\n",
      "type of elements =  <class 'list'>\n",
      "membership degrees            =  [0.1, 0.5, 0.1]\n",
      "\n",
      "\n",
      "Fuzzy set [([2, 3], 0.1), ([4, 5], 0.5), ([3, 7], 0.1)]\n"
     ]
    }
   ],
   "source": [
    "elements=[[2,3], [4,5], [3,7]]\n",
    "membership_degrees = [.1, .5, .1]\n",
    "X=FuzzySet(elements,md=membership_degrees)\n",
    "X.show_class()\n",
    "print('\\n')\n",
    "print(\"Fuzzy set\", X.get_pair())"
   ]
  },
  {
   "cell_type": "markdown",
   "metadata": {},
   "source": [
    "A fuzzy set with explicit membership function"
   ]
  },
  {
   "cell_type": "code",
   "execution_count": 7,
   "metadata": {},
   "outputs": [
    {
     "name": "stdout",
     "output_type": "stream",
     "text": [
      "elements      =  [98.39257189 72.96234332 20.7965824 ]\n",
      "type of elements =  <class 'numpy.float64'>\n",
      "membership degrees            =  [1.38697041e-16 8.55272614e-02 6.97965915e-26]\n",
      "membership function           =  <function gaussmf at 0x10bad5268>\n",
      "with parameters       =  [64.05049920391923, 32.29912404065512]\n",
      "\n",
      "\n",
      "Fuzzy set [(98.39257189427387, 1.3869704110626967e-16), (72.96234332061262, 0.08552726135839103), (20.796582396871187, 6.979659150604412e-26)]\n"
     ]
    }
   ],
   "source": [
    "elements = np.random.uniform(0, 100, 3)\n",
    "mf = gaussmf\n",
    "params_mf = [np.mean(elements), np.std(elements)]\n",
    "X = FuzzySet(elements, mf=mf, params=params_mf)\n",
    "X.show_class()\n",
    "#plot1D(X)\n",
    "print('\\n')\n",
    "print(\"Fuzzy set\", X.get_pair())"
   ]
  },
  {
   "cell_type": "markdown",
   "metadata": {},
   "source": [
    "A fuzzy set with explicit membership function, with elements in R2"
   ]
  },
  {
   "cell_type": "code",
   "execution_count": 6,
   "metadata": {},
   "outputs": [
    {
     "name": "stdout",
     "output_type": "stream",
     "text": [
      "elements      =  [[12.46617352 36.0924754 ]\n",
      " [11.01384485 36.15748644]\n",
      " [12.46202752 35.45033572]\n",
      " [ 9.69023704 34.45552634]\n",
      " [13.48568583 36.95258399]\n",
      " [12.51890732 34.18742636]\n",
      " [13.30501398 34.52598406]\n",
      " [11.64021036 35.70697292]\n",
      " [12.91447548 35.97830438]\n",
      " [12.95476905 35.80599703]]\n",
      "type of elements =  <class 'numpy.ndarray'>\n",
      "membership degrees            =  [9.10687990e-01 1.47575481e-01 8.69053051e-01 1.33995667e-04\n",
      " 7.47827012e-02 7.02411160e-02 7.78844058e-02 5.96007174e-01\n",
      " 7.08386100e-01 6.95668201e-01]\n",
      "membership function           =  <function gaussmf at 0x10bad5268>\n",
      "with parameters       =  [array([12.35237727, 35.80856459]), array([[1, 0],\n",
      "       [0, 1]])]\n",
      "\n",
      "\n",
      "Fuzzy set [(array([12.46617352, 36.0924754 ]), 0.9106879900691186), (array([11.01384485, 36.15748644]), 0.14757548063330833), (array([12.46202752, 35.45033572]), 0.8690530514042465), (array([ 9.69023704, 34.45552634]), 0.000133995666888607), (array([13.48568583, 36.95258399]), 0.07478270117775618), (array([12.51890732, 34.18742636]), 0.07024111596244699), (array([13.30501398, 34.52598406]), 0.07788440575759005), (array([11.64021036, 35.70697292]), 0.5960071736732054), (array([12.91447548, 35.97830438]), 0.7083861001744622), (array([12.95476905, 35.80599703]), 0.6956682006738053)]\n"
     ]
    }
   ],
   "source": [
    "covar = np.array( [[1, 0], [0, 1]] )\n",
    "mean = np.random.uniform( 0, 100, 2 )\n",
    "elements = np.random.multivariate_normal( mean, covar, 10 )\n",
    "\n",
    "X = FuzzySet( elements, mf=gaussmf, params=[mean, covar] )\n",
    "X.show_class()\n",
    "# plot1D(X)\n",
    "print( '\\n' )\n",
    "print( \"Fuzzy set\", X.get_pair() )"
   ]
  },
  {
   "cell_type": "code",
   "execution_count": null,
   "metadata": {},
   "outputs": [],
   "source": []
  },
  {
   "cell_type": "code",
   "execution_count": null,
   "metadata": {},
   "outputs": [],
   "source": []
  },
  {
   "cell_type": "code",
   "execution_count": null,
   "metadata": {},
   "outputs": [],
   "source": []
  },
  {
   "cell_type": "code",
   "execution_count": null,
   "metadata": {},
   "outputs": [],
   "source": []
  }
 ],
 "metadata": {
  "kernelspec": {
   "display_name": "Python 3",
   "language": "python",
   "name": "python3"
  },
  "language_info": {
   "codemirror_mode": {
    "name": "ipython",
    "version": 3
   },
   "file_extension": ".py",
   "mimetype": "text/x-python",
   "name": "python",
   "nbconvert_exporter": "python",
   "pygments_lexer": "ipython3",
   "version": "3.6.7"
  }
 },
 "nbformat": 4,
 "nbformat_minor": 2
}
